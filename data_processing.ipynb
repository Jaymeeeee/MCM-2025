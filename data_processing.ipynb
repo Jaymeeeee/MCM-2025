{
 "cells": [
  {
   "cell_type": "code",
   "id": "initial_id",
   "metadata": {
    "collapsed": true,
    "ExecuteTime": {
     "end_time": "2025-01-25T02:08:01.244042Z",
     "start_time": "2025-01-25T02:08:00.225099Z"
    }
   },
   "source": "import pandas as pd",
   "outputs": [],
   "execution_count": 1
  },
  {
   "metadata": {
    "ExecuteTime": {
     "end_time": "2025-01-25T02:08:01.605005Z",
     "start_time": "2025-01-25T02:08:01.259704Z"
    }
   },
   "cell_type": "code",
   "source": [
    "df = pd.read_csv(\"./data_dictionary/summerOly_athletes_modified.csv\")\n",
    "\n",
    "print(df)"
   ],
   "id": "86d4bf843c20a990",
   "outputs": [
    {
     "name": "stdout",
     "output_type": "stream",
     "text": [
      "                         Name Sex  NOC  Year    City      Sport  \\\n",
      "0                 Edwin Flack   M  AUS  1896  Athina     Tennis   \n",
      "1                 Edwin Flack   M  AUS  1896  Athina  Athletics   \n",
      "2                 Edwin Flack   M  AUS  1896  Athina  Athletics   \n",
      "3                 Edwin Flack   M  AUS  1896  Athina  Athletics   \n",
      "4                 Edwin Flack   M  AUS  1896  Athina     Tennis   \n",
      "...                       ...  ..  ...   ...     ...        ...   \n",
      "252560           Joan Nyahora   F  ZIM  2024   Paris  Athletics   \n",
      "252561            Isaac Mpofu   M  ZIM  2024   Paris  Athletics   \n",
      "252562  Makanakaishe Charamba   M  ZIM  2024   Paris  Athletics   \n",
      "252563              van Paige   F  ZIM  2024   Paris   Swimming   \n",
      "252564     Denilson Cyprianos   M  ZIM  2024   Paris   Swimming   \n",
      "\n",
      "                               Event  Medal  \n",
      "0               Tennis Men's Singles      0  \n",
      "1         Athletics Men's 800 metres      1  \n",
      "2       Athletics Men's 1,500 metres      1  \n",
      "3           Athletics Men's Marathon      0  \n",
      "4               Tennis Men's Doubles      3  \n",
      "...                              ...    ...  \n",
      "252560              Women's Marathon      0  \n",
      "252561                Men's Marathon      0  \n",
      "252562                    Men's 200m      0  \n",
      "252563        Women's 100m Freestyle      0  \n",
      "252564         Men's 200m Backstroke      0  \n",
      "\n",
      "[252565 rows x 8 columns]\n"
     ]
    }
   ],
   "execution_count": 2
  },
  {
   "metadata": {
    "ExecuteTime": {
     "end_time": "2025-01-25T02:08:02.068015Z",
     "start_time": "2025-01-25T02:08:02.044253Z"
    }
   },
   "cell_type": "code",
   "source": [
    "unique_sports = df['Sport'].unique()\n",
    "\n",
    "print(unique_sports)"
   ],
   "id": "6f4e6f065116b0ba",
   "outputs": [
    {
     "name": "stdout",
     "output_type": "stream",
     "text": [
      "['Tennis' 'Athletics' 'Swimming' 'Cycling' 'Fencing' 'Weightlifting'\n",
      " 'Gymnastics' 'Shooting' 'Wrestling' 'Polo' 'Sailing' 'Equestrianism'\n",
      " 'Archery' 'Water Polo' 'Rowing' 'Tug-Of-War' 'Cricket' 'Croquet' 'Golf'\n",
      " 'Rugby' 'Basque Pelota' 'Football' 'Diving' 'Lacrosse' 'Boxing' 'Roque'\n",
      " 'Figure Skating' 'Motorboating' 'Hockey' 'Racquets' 'Jeu De Paume'\n",
      " 'Modern Pentathlon' 'Art Competitions' 'Ice Hockey' 'Alpinism' 'Handball'\n",
      " 'Canoeing' 'Basketball' 'Aeronautics' 'Judo' 'Volleyball'\n",
      " 'Synchronized Swimming' 'Rhythmic Gymnastics' 'Table Tennis' 'Badminton'\n",
      " 'Baseball' 'Beach Volleyball' 'Softball' 'Trampolining' 'Triathlon'\n",
      " 'Taekwondo' 'Rugby Sevens' 'Artistic Gymnastics' 'Marathon Swimming'\n",
      " 'Canoe Sprint' 'Cycling Road' 'Karate' 'Canoe Slalom' 'Equestrian'\n",
      " 'Cycling Mountain Bike' 'Cycling BMX Racing' 'Surfing' 'Cycling Track'\n",
      " 'Artistic Swimming' 'Trampoline Gymnastics' 'Baseball/Softball'\n",
      " 'Cycling BMX Freestyle' 'Sport Climbing' 'Skateboarding' '3x3 Basketball'\n",
      " '3x3 Basketball, Basketball' 'Breaking' 'Marathon Swimming, Swimming'\n",
      " 'Cycling Road, Cycling Track' 'Cycling Road, Cycling Mountain Bike'\n",
      " 'Cycling Road, Triathlon']\n"
     ]
    }
   ],
   "execution_count": 3
  },
  {
   "metadata": {
    "ExecuteTime": {
     "end_time": "2025-01-25T02:08:03.368905Z",
     "start_time": "2025-01-25T02:08:02.234963Z"
    }
   },
   "cell_type": "code",
   "source": [
    "df['Sport'] = df['Sport'].replace('3x3 Basketball', 'Basketball')\n",
    "df['Sport'] = df['Sport'].replace('3x3 Basketball, Basketball', 'Basketball')\n",
    "\n",
    "df['Sport'] = df['Sport'].replace('Marathon Swimming, Swimming', 'Swimming')\n",
    "df['Sport'] = df['Sport'].replace('Marathon Swimming', 'Swimming')\n",
    "df['Sport'] = df['Sport'].replace('Synchronized Swimming', 'Swimming')\n",
    "df['Sport'] = df['Sport'].replace('Artistic Swimming', 'Swimming')\n",
    "\n",
    "df['Sport'] = df['Sport'].replace('Cycling Mountain Bike', 'Cycling')\n",
    "df['Sport'] = df['Sport'].replace('Cycling BMX Racing', 'Cycling')\n",
    "df['Sport'] = df['Sport'].replace('Cycling Track', 'Cycling')\n",
    "df['Sport'] = df['Sport'].replace('Cycling BMX Freestyle', 'Cycling')\n",
    "df['Sport'] = df['Sport'].replace('Cycling Road, Cycling Track', 'Cycling')\n",
    "df['Sport'] = df['Sport'].replace('Cycling Road, Cycling Mountain Bike', 'Cycling')\n",
    "df['Sport'] = df['Sport'].replace('Cycling Road, Triathlon', 'Cycling')\n",
    "df['Sport'] = df['Sport'].replace('Cycling Road', 'Cycling')\n",
    "\n",
    "df['Sport'] = df['Sport'].replace('Trampolining', 'Gymnastics')\n",
    "df['Sport'] = df['Sport'].replace('Rhythmic Gymnastics', 'Gymnastics')\n",
    "df['Sport'] = df['Sport'].replace('Artistic Gymnastics', 'Gymnastics')\n",
    "df['Sport'] = df['Sport'].replace('Trampoline Gymnastics', 'Gymnastics')\n",
    "\n",
    "df['Sport'] = df['Sport'].replace('Archery', 'Shooting')\n",
    "\n",
    "df['Sport'] = df['Sport'].replace('Beach Volleyball', 'Volleyball')\n",
    "\n",
    "df['Sport'] = df['Sport'].replace('Softball', 'Baseball/Softball')\n",
    "df['Sport'] = df['Sport'].replace('Baseball', 'Baseball/Softball')\n",
    "\n",
    "df['Sport'] = df['Sport'].replace('Sailing', 'WaterSport')\n",
    "df['Sport'] = df['Sport'].replace('Rowing', 'WaterSport')\n",
    "df['Sport'] = df['Sport'].replace('Canoeing', 'WaterSport')\n",
    "df['Sport'] = df['Sport'].replace('Canoe Sprint', 'WaterSport')\n",
    "df['Sport'] = df['Sport'].replace('Canoe Slalom', 'WaterSport')\n",
    "df['Sport'] = df['Sport'].replace('Motorboating', 'WaterSport')\n",
    "\n",
    "# 奥运会新增项目或冷门项目\n",
    "df['Sport'] = df['Sport'].replace('Baseball/Softball', 'Others')\n",
    "df['Sport'] = df['Sport'].replace('Karate', 'Others')\n",
    "df['Sport'] = df['Sport'].replace('Surfing', 'Others')\n",
    "df['Sport'] = df['Sport'].replace('Sport Climbing', 'Others')\n",
    "df['Sport'] = df['Sport'].replace('Skateboarding', 'Others')\n",
    "df['Sport'] = df['Sport'].replace('Breaking', 'Others')\n",
    "df['Sport'] = df['Sport'].replace('Rugby Sevens', 'Others')\n",
    "df['Sport'] = df['Sport'].replace('Golf', 'Others')\n",
    "df['Sport'] = df['Sport'].replace('Modern Pentathlon', 'Others')\n",
    "df['Sport'] = df['Sport'].replace('Equestrian', 'Others')\n",
    "df['Sport'] = df['Sport'].replace('Triathlon', 'Others')\n",
    "df['Sport'] = df['Sport'].replace('Equestrianism', 'Others')\n",
    "df['Sport'] = df['Sport'].replace('Tug-Of-War', 'Others')\n",
    "df['Sport'] = df['Sport'].replace('Figure Skating', 'Others')\n",
    "df['Sport'] = df['Sport'].replace('Art Competitions', 'Others')\n",
    "df['Sport'] = df['Sport'].replace('Alpinism', 'Others')\n",
    "df['Sport'] = df['Sport'].replace('Aeronautics', 'Others')\n",
    "\n",
    "# 格斗类\n",
    "df['Sport'] = df['Sport'].replace('Boxing', 'Combat')\n",
    "df['Sport'] = df['Sport'].replace('Judo', 'Combat')\n",
    "df['Sport'] = df['Sport'].replace('Wrestling', 'Combat')\n",
    "df['Sport'] = df['Sport'].replace('Taekwondo', 'Combat')\n",
    "df['Sport'] = df['Sport'].replace('Fencing', 'Combat')\n",
    "\n",
    "# 球类运动\n",
    "df['Sport'] = df['Sport'].replace('Table Tennis', 'Balls')\n",
    "df['Sport'] = df['Sport'].replace('Basketball', 'Balls')\n",
    "df['Sport'] = df['Sport'].replace('Handball', 'Balls')\n",
    "df['Sport'] = df['Sport'].replace('Hockey', 'Balls')\n",
    "df['Sport'] = df['Sport'].replace('Volleyball', 'Balls')\n",
    "df['Sport'] = df['Sport'].replace('Tennis', 'Balls')\n",
    "df['Sport'] = df['Sport'].replace('Football', 'Balls')\n",
    "df['Sport'] = df['Sport'].replace('Badminton', 'Balls')\n",
    "df['Sport'] = df['Sport'].replace('Water Polo', 'Balls')\n",
    "df['Sport'] = df['Sport'].replace('Lacrosse', 'Balls')\n",
    "df['Sport'] = df['Sport'].replace('Polo', 'Balls')\n",
    "df['Sport'] = df['Sport'].replace('Jeu De Paume', 'Balls')\n",
    "df['Sport'] = df['Sport'].replace('Cricket', 'Balls')\n",
    "df['Sport'] = df['Sport'].replace('Croquet', 'Balls')\n",
    "df['Sport'] = df['Sport'].replace('Rugby', 'Balls')\n",
    "df['Sport'] = df['Sport'].replace('Basque Pelota', 'Balls')\n",
    "df['Sport'] = df['Sport'].replace('Roque', 'Balls')\n",
    "df['Sport'] = df['Sport'].replace('Racquets', 'Balls')\n",
    "df['Sport'] = df['Sport'].replace('Ice Hockey', 'Balls')"
   ],
   "id": "bcaf8d056a61552",
   "outputs": [],
   "execution_count": 4
  },
  {
   "metadata": {
    "ExecuteTime": {
     "end_time": "2025-01-25T02:08:03.403755Z",
     "start_time": "2025-01-25T02:08:03.381338Z"
    }
   },
   "cell_type": "code",
   "source": "print(df['Sport'].unique())",
   "id": "45c38714dd8b8a07",
   "outputs": [
    {
     "name": "stdout",
     "output_type": "stream",
     "text": [
      "['Balls' 'Athletics' 'Swimming' 'Cycling' 'Combat' 'Weightlifting'\n",
      " 'Gymnastics' 'Shooting' 'WaterSport' 'Others' 'Diving']\n"
     ]
    }
   ],
   "execution_count": 5
  },
  {
   "metadata": {
    "ExecuteTime": {
     "end_time": "2025-01-25T02:08:03.494738Z",
     "start_time": "2025-01-25T02:08:03.418528Z"
    }
   },
   "cell_type": "code",
   "source": [
    "df = df.drop('Name', axis=1)\n",
    "df = df.drop('Sex', axis=1)\n",
    "df = df.drop('Event', axis=1)\n",
    "df = df.drop('City', axis=1)\n",
    "print(df)"
   ],
   "id": "df75bbcfd2cd6c46",
   "outputs": [
    {
     "name": "stdout",
     "output_type": "stream",
     "text": [
      "        NOC  Year      Sport  Medal\n",
      "0       AUS  1896      Balls      0\n",
      "1       AUS  1896  Athletics      1\n",
      "2       AUS  1896  Athletics      1\n",
      "3       AUS  1896  Athletics      0\n",
      "4       AUS  1896      Balls      3\n",
      "...     ...   ...        ...    ...\n",
      "252560  ZIM  2024  Athletics      0\n",
      "252561  ZIM  2024  Athletics      0\n",
      "252562  ZIM  2024  Athletics      0\n",
      "252563  ZIM  2024   Swimming      0\n",
      "252564  ZIM  2024   Swimming      0\n",
      "\n",
      "[252565 rows x 4 columns]\n"
     ]
    }
   ],
   "execution_count": 6
  },
  {
   "metadata": {
    "ExecuteTime": {
     "end_time": "2025-01-25T02:08:03.601574Z",
     "start_time": "2025-01-25T02:08:03.506639Z"
    }
   },
   "cell_type": "code",
   "source": [
    "result_1 = df.groupby(['NOC','Year','Sport'])['Medal'].count()\n",
    "\n",
    "print(result_1)\n",
    "\n",
    "result_1.to_csv(\"./data_dictionary/test.csv\")"
   ],
   "id": "be7858a4af3c8315",
   "outputs": [
    {
     "name": "stdout",
     "output_type": "stream",
     "text": [
      "NOC  Year  Sport     \n",
      "AFG  1936  Athletics      3\n",
      "           Balls         13\n",
      "     1948  Balls         25\n",
      "     1956  Balls         12\n",
      "     1960  Athletics      9\n",
      "                         ..\n",
      "ZIM  2020  Swimming       2\n",
      "           WaterSport     1\n",
      "     2024  Athletics      4\n",
      "           Swimming       2\n",
      "           WaterSport     1\n",
      "Name: Medal, Length: 17093, dtype: int64\n"
     ]
    }
   ],
   "execution_count": 7
  },
  {
   "metadata": {
    "ExecuteTime": {
     "end_time": "2025-01-25T02:08:03.643191Z",
     "start_time": "2025-01-25T02:08:03.613518Z"
    }
   },
   "cell_type": "code",
   "source": [
    "# 使用 groupby，将每组数据展平\n",
    "result_2 = result_1.groupby('NOC').agg(lambda x: list(x))\n",
    "\n",
    "print(result_2)"
   ],
   "id": "35b6d0b57eb68eb1",
   "outputs": [
    {
     "name": "stdout",
     "output_type": "stream",
     "text": [
      "NOC\n",
      "AFG    [3, 13, 25, 12, 9, 7, 8, 5, 8, 11, 5, 2, 2, 3,...\n",
      "AHO    [11, 5, 1, 3, 3, 2, 1, 1, 2, 2, 4, 9, 1, 2, 1,...\n",
      "AIN                            [14, 3, 7, 3, 2, 7, 8, 2]\n",
      "ALB    [4, 1, 1, 2, 3, 3, 2, 1, 1, 4, 1, 2, 2, 1, 2, ...\n",
      "ALG    [7, 2, 7, 6, 1, 13, 28, 9, 10, 3, 9, 15, 7, 2,...\n",
      "                             ...                        \n",
      "YEM    [3, 5, 3, 1, 2, 1, 1, 1, 2, 1, 4, 1, 2, 2, 1, ...\n",
      "YMD                                               [3, 2]\n",
      "YUG    [15, 6, 12, 2, 8, 72, 7, 9, 4, 11, 7, 8, 56, 1...\n",
      "ZAM    [6, 5, 4, 3, 4, 8, 4, 15, 14, 14, 6, 12, 8, 18...\n",
      "ZIM    [2, 10, 4, 15, 1, 5, 2, 3, 3, 4, 15, 3, 4, 5, ...\n",
      "Name: Medal, Length: 234, dtype: object\n"
     ]
    }
   ],
   "execution_count": 8
  },
  {
   "metadata": {
    "ExecuteTime": {
     "end_time": "2025-01-25T02:08:04.373027Z",
     "start_time": "2025-01-25T02:08:03.656310Z"
    }
   },
   "cell_type": "code",
   "source": [
    "result = df.groupby(['NOC','Year']).agg(\n",
    "    count_medal=('Medal', lambda x: (x == 1).sum()),\n",
    "    count_gold=('Medal', lambda x: (x != 0).sum())\n",
    ").reset_index()\n",
    "\n",
    "print(result)"
   ],
   "id": "ef17b0bd90b214d9",
   "outputs": [
    {
     "name": "stdout",
     "output_type": "stream",
     "text": [
      "      NOC  Year  count_medal  count_gold\n",
      "0     AFG  1936            0           0\n",
      "1     AFG  1948            0           0\n",
      "2     AFG  1956            0           0\n",
      "3     AFG  1960            0           0\n",
      "4     AFG  1964            0           0\n",
      "...   ...   ...          ...         ...\n",
      "3217  ZIM  2008            1           4\n",
      "3218  ZIM  2012            0           0\n",
      "3219  ZIM  2016            0           0\n",
      "3220  ZIM  2020            0           0\n",
      "3221  ZIM  2024            0           0\n",
      "\n",
      "[3222 rows x 4 columns]\n"
     ]
    }
   ],
   "execution_count": 9
  }
 ],
 "metadata": {
  "kernelspec": {
   "display_name": "Python 3",
   "language": "python",
   "name": "python3"
  },
  "language_info": {
   "codemirror_mode": {
    "name": "ipython",
    "version": 2
   },
   "file_extension": ".py",
   "mimetype": "text/x-python",
   "name": "python",
   "nbconvert_exporter": "python",
   "pygments_lexer": "ipython2",
   "version": "2.7.6"
  }
 },
 "nbformat": 4,
 "nbformat_minor": 5
}
